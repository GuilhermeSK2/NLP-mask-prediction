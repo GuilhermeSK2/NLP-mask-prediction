{
  "nbformat": 4,
  "nbformat_minor": 0,
  "metadata": {
    "colab": {
      "provenance": [],
      "authorship_tag": "ABX9TyNGT4cw7TVgRSkItBRE5KJI"
    },
    "kernelspec": {
      "name": "python3",
      "display_name": "Python 3"
    },
    "language_info": {
      "name": "python"
    }
  },
  "cells": [
    {
      "cell_type": "code",
      "execution_count": 7,
      "metadata": {
        "colab": {
          "base_uri": "https://localhost:8080/"
        },
        "id": "1gd2o-2OoUvT",
        "outputId": "9feff293-4104-4f75-9e21-a3948253956f"
      },
      "outputs": [
        {
          "output_type": "stream",
          "name": "stdout",
          "text": [
            "Requirement already satisfied: transformers in /usr/local/lib/python3.11/dist-packages (4.52.4)\n",
            "Requirement already satisfied: filelock in /usr/local/lib/python3.11/dist-packages (from transformers) (3.18.0)\n",
            "Requirement already satisfied: huggingface-hub<1.0,>=0.30.0 in /usr/local/lib/python3.11/dist-packages (from transformers) (0.33.0)\n",
            "Requirement already satisfied: numpy>=1.17 in /usr/local/lib/python3.11/dist-packages (from transformers) (2.0.2)\n",
            "Requirement already satisfied: packaging>=20.0 in /usr/local/lib/python3.11/dist-packages (from transformers) (24.2)\n",
            "Requirement already satisfied: pyyaml>=5.1 in /usr/local/lib/python3.11/dist-packages (from transformers) (6.0.2)\n",
            "Requirement already satisfied: regex!=2019.12.17 in /usr/local/lib/python3.11/dist-packages (from transformers) (2024.11.6)\n",
            "Requirement already satisfied: requests in /usr/local/lib/python3.11/dist-packages (from transformers) (2.32.3)\n",
            "Requirement already satisfied: tokenizers<0.22,>=0.21 in /usr/local/lib/python3.11/dist-packages (from transformers) (0.21.2)\n",
            "Requirement already satisfied: safetensors>=0.4.3 in /usr/local/lib/python3.11/dist-packages (from transformers) (0.5.3)\n",
            "Requirement already satisfied: tqdm>=4.27 in /usr/local/lib/python3.11/dist-packages (from transformers) (4.67.1)\n",
            "Requirement already satisfied: fsspec>=2023.5.0 in /usr/local/lib/python3.11/dist-packages (from huggingface-hub<1.0,>=0.30.0->transformers) (2025.3.2)\n",
            "Requirement already satisfied: typing-extensions>=3.7.4.3 in /usr/local/lib/python3.11/dist-packages (from huggingface-hub<1.0,>=0.30.0->transformers) (4.14.0)\n",
            "Requirement already satisfied: hf-xet<2.0.0,>=1.1.2 in /usr/local/lib/python3.11/dist-packages (from huggingface-hub<1.0,>=0.30.0->transformers) (1.1.5)\n",
            "Requirement already satisfied: charset-normalizer<4,>=2 in /usr/local/lib/python3.11/dist-packages (from requests->transformers) (3.4.2)\n",
            "Requirement already satisfied: idna<4,>=2.5 in /usr/local/lib/python3.11/dist-packages (from requests->transformers) (3.10)\n",
            "Requirement already satisfied: urllib3<3,>=1.21.1 in /usr/local/lib/python3.11/dist-packages (from requests->transformers) (2.4.0)\n",
            "Requirement already satisfied: certifi>=2017.4.17 in /usr/local/lib/python3.11/dist-packages (from requests->transformers) (2025.6.15)\n"
          ]
        }
      ],
      "source": [
        "!pip install transformers"
      ]
    },
    {
      "cell_type": "code",
      "source": [
        "import transformers\n",
        "from transformers import pipeline"
      ],
      "metadata": {
        "id": "l8VdDWlRojdT"
      },
      "execution_count": 8,
      "outputs": []
    },
    {
      "cell_type": "code",
      "source": [
        "mascarar = pipeline(\"fill-mask\", model=\"neuralmind/bert-base-portuguese-cased\")\n",
        "texto = mascarar(\"Existe uma chance do corpo cair no [MASK]\")\n",
        "for x in range(len(texto)):\n",
        "  print(texto[x])"
      ],
      "metadata": {
        "colab": {
          "base_uri": "https://localhost:8080/"
        },
        "id": "e2ozDzsAoqXo",
        "outputId": "8a17c893-a90e-4e54-df97-525cc79e789b"
      },
      "execution_count": 9,
      "outputs": [
        {
          "output_type": "stream",
          "name": "stderr",
          "text": [
            "Some weights of the model checkpoint at neuralmind/bert-base-portuguese-cased were not used when initializing BertForMaskedLM: ['bert.pooler.dense.bias', 'bert.pooler.dense.weight', 'cls.seq_relationship.bias', 'cls.seq_relationship.weight']\n",
            "- This IS expected if you are initializing BertForMaskedLM from the checkpoint of a model trained on another task or with another architecture (e.g. initializing a BertForSequenceClassification model from a BertForPreTraining model).\n",
            "- This IS NOT expected if you are initializing BertForMaskedLM from the checkpoint of a model that you expect to be exactly identical (initializing a BertForSequenceClassification model from a BertForSequenceClassification model).\n",
            "Device set to use cpu\n"
          ]
        },
        {
          "output_type": "stream",
          "name": "stdout",
          "text": [
            "{'score': 0.37377509474754333, 'token': 8105, 'token_str': 'chão', 'sequence': 'Existe uma chance do corpo cair no chão'}\n",
            "{'score': 0.14707374572753906, 'token': 528, 'token_str': 'mar', 'sequence': 'Existe uma chance do corpo cair no mar'}\n",
            "{'score': 0.048200927674770355, 'token': 2187, 'token_str': 'rio', 'sequence': 'Existe uma chance do corpo cair no rio'}\n",
            "{'score': 0.03422795236110687, 'token': 8096, 'token_str': 'gelo', 'sequence': 'Existe uma chance do corpo cair no gelo'}\n",
            "{'score': 0.021673360839486122, 'token': 15213, 'token_str': 'buraco', 'sequence': 'Existe uma chance do corpo cair no buraco'}\n"
          ]
        }
      ]
    },
    {
      "cell_type": "code",
      "source": [
        "texto = mascarar([\"Existe uma chance do corpo cair no [MASK]\", \"Brasília é a capital do [MASK]\"])\n",
        "for x in range(len(texto)):\n",
        "  print(texto[x])"
      ],
      "metadata": {
        "colab": {
          "base_uri": "https://localhost:8080/"
        },
        "id": "RpdvGrcR-Mjq",
        "outputId": "33200c10-2465-4a13-e247-1174445969ef"
      },
      "execution_count": 10,
      "outputs": [
        {
          "output_type": "stream",
          "name": "stdout",
          "text": [
            "[{'score': 0.37377509474754333, 'token': 8105, 'token_str': 'chão', 'sequence': 'Existe uma chance do corpo cair no chão'}, {'score': 0.14707374572753906, 'token': 528, 'token_str': 'mar', 'sequence': 'Existe uma chance do corpo cair no mar'}, {'score': 0.048200927674770355, 'token': 2187, 'token_str': 'rio', 'sequence': 'Existe uma chance do corpo cair no rio'}, {'score': 0.03422795236110687, 'token': 8096, 'token_str': 'gelo', 'sequence': 'Existe uma chance do corpo cair no gelo'}, {'score': 0.021673360839486122, 'token': 15213, 'token_str': 'buraco', 'sequence': 'Existe uma chance do corpo cair no buraco'}]\n",
            "[{'score': 0.5167429447174072, 'token': 771, 'token_str': 'Brasil', 'sequence': 'Brasília é a capital do Brasil'}, {'score': 0.19815459847450256, 'token': 806, 'token_str': 'país', 'sequence': 'Brasília é a capital do país'}, {'score': 0.0376470722258091, 'token': 4953, 'token_str': 'País', 'sequence': 'Brasília é a capital do País'}, {'score': 0.024318601936101913, 'token': 1147, 'token_str': 'mundo', 'sequence': 'Brasília é a capital do mundo'}, {'score': 0.015301565639674664, 'token': 2200, 'token_str': 'futebol', 'sequence': 'Brasília é a capital do futebol'}]\n"
          ]
        }
      ]
    }
  ]
}